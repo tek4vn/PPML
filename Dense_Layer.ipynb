{
  "nbformat": 4,
  "nbformat_minor": 0,
  "metadata": {
    "colab": {
      "name": "NCKH-Dense.ipynb",
      "provenance": [],
      "toc_visible": true,
      "mount_file_id": "19PRpbCpizGvsEZmFwhPKKtRuO7p2JB5M",
      "authorship_tag": "ABX9TyNngs644DtHO5FEYIo2opyD"
    },
    "kernelspec": {
      "name": "python3",
      "display_name": "Python 3"
    }
  },
  "cells": [
    {
      "cell_type": "code",
      "metadata": {
        "id": "rCXOkofExRlE"
      },
      "source": [
        " import numpy as np\n",
        "from tensorflow.keras.models import Sequential,Model,load_model\n",
        "from tensorflow.keras.layers import Input, Activation, Flatten, Dense, Dropout,Reshape\n",
        "from tensorflow.keras.layers import Conv2D, MaxPooling2D\n",
        "from tensorflow.keras.utils import to_categorical\n",
        "from tensorflow.keras.optimizers import SGD\n",
        "import time"
      ],
      "execution_count": null,
      "outputs": []
    },
    {
      "cell_type": "code",
      "metadata": {
        "id": "wb91E8jq067j"
      },
      "source": [
        "from tensorflow.keras.datasets import mnist"
      ],
      "execution_count": null,
      "outputs": []
    },
    {
      "cell_type": "code",
      "metadata": {
        "colab": {
          "base_uri": "https://localhost:8080/"
        },
        "id": "i_2K99KN09Vk",
        "outputId": "d434d0dd-ddcd-4edc-90fc-450a4b8bd769"
      },
      "source": [
        "(img_train, label_train), (img_test, label_test) = mnist.load_data()"
      ],
      "execution_count": null,
      "outputs": [
        {
          "output_type": "stream",
          "text": [
            "Downloading data from https://storage.googleapis.com/tensorflow/tf-keras-datasets/mnist.npz\n",
            "11493376/11490434 [==============================] - 0s 0us/step\n"
          ],
          "name": "stdout"
        }
      ]
    },
    {
      "cell_type": "code",
      "metadata": {
        "id": "3xx37f_a0_zd"
      },
      "source": [
        "x_train = img_train.reshape(60000,28*28)\n",
        "x_test = img_test.reshape(10000,28*28)"
      ],
      "execution_count": null,
      "outputs": []
    },
    {
      "cell_type": "code",
      "metadata": {
        "id": "bnAtYbp51Ck0"
      },
      "source": [
        "x_train = x_train.astype('float32') / 255\n",
        "x_test = x_test.astype('float32') / 255"
      ],
      "execution_count": null,
      "outputs": []
    },
    {
      "cell_type": "code",
      "metadata": {
        "id": "j6LgUUUT1E8A"
      },
      "source": [
        "y_train = to_categorical(label_train)\n",
        "y_test = to_categorical(label_test)"
      ],
      "execution_count": null,
      "outputs": []
    },
    {
      "cell_type": "code",
      "metadata": {
        "id": "FNnUTf5t1HUM"
      },
      "source": [
        "img_size = 28"
      ],
      "execution_count": null,
      "outputs": []
    },
    {
      "cell_type": "code",
      "metadata": {
        "id": "HOqlJ9e-1Jhq"
      },
      "source": [
        "model = Sequential()\n",
        "img_input = Input(shape=(784,))\n",
        "\n",
        "model.add(Dense(500,activation='relu', input_shape=img_input.shape[1:]))\n",
        "model.add(Dense(784, activation='relu'))\n",
        "model.add(Reshape(target_shape=(28,28,1)))\n",
        "model.add(Conv2D(32, (3,3),activation='relu', padding='valid'))\n",
        "model.add(MaxPooling2D(pool_size=(2,2), padding='valid'))\n",
        "model.add(Dropout(0.25))\n",
        "\n",
        "model.add(Conv2D(16, (3,3), activation='relu',padding='same'))\n",
        "model.add(MaxPooling2D(pool_size=(2,2), padding='same'))\n",
        "model.add(Dropout(0.2))\n",
        "model.add(Flatten())\n",
        "model.add(Dense(32, activation='relu'))\n",
        "model.add(Dense(10, activation='softmax'))"
      ],
      "execution_count": null,
      "outputs": []
    },
    {
      "cell_type": "code",
      "metadata": {
        "id": "gxHhWBWS1Qb0"
      },
      "source": [
        "sgdx = SGD(lr=0.01, decay =1e-6, momentum=0.9, nesterov=True)\n",
        "ntrain = 5"
      ],
      "execution_count": null,
      "outputs": []
    },
    {
      "cell_type": "code",
      "metadata": {
        "id": "E0vY2D9X1T7w"
      },
      "source": [
        "s = time.time()\n",
        "model.compile(optimizer=sgdx,\n",
        "              loss='categorical_crossentropy',\n",
        "              metrics=['categorical_accuracy'])\n",
        "H = model.fit(x_train, y_train, epochs=ntrain)\n",
        "print('time: ',time.time() - s)"
      ],
      "execution_count": null,
      "outputs": []
    },
    {
      "cell_type": "code",
      "metadata": {
        "colab": {
          "base_uri": "https://localhost:8080/"
        },
        "id": "iDt_YSArqc1g",
        "outputId": "8ff9fdc7-e8f1-42c9-91d1-46e7a7121621"
      },
      "source": [
        "model.summary()"
      ],
      "execution_count": null,
      "outputs": [
        {
          "output_type": "stream",
          "text": [
            "Model: \"sequential\"\n",
            "_________________________________________________________________\n",
            "Layer (type)                 Output Shape              Param #   \n",
            "=================================================================\n",
            "dense (Dense)                (None, 500)               392500    \n",
            "_________________________________________________________________\n",
            "dense_1 (Dense)              (None, 784)               392784    \n",
            "_________________________________________________________________\n",
            "reshape (Reshape)            (None, 28, 28, 1)         0         \n",
            "_________________________________________________________________\n",
            "conv2d (Conv2D)              (None, 26, 26, 32)        320       \n",
            "_________________________________________________________________\n",
            "max_pooling2d (MaxPooling2D) (None, 13, 13, 32)        0         \n",
            "_________________________________________________________________\n",
            "dropout (Dropout)            (None, 13, 13, 32)        0         \n",
            "_________________________________________________________________\n",
            "conv2d_1 (Conv2D)            (None, 13, 13, 16)        4624      \n",
            "_________________________________________________________________\n",
            "max_pooling2d_1 (MaxPooling2 (None, 7, 7, 16)          0         \n",
            "_________________________________________________________________\n",
            "dropout_1 (Dropout)          (None, 7, 7, 16)          0         \n",
            "_________________________________________________________________\n",
            "flatten (Flatten)            (None, 784)               0         \n",
            "_________________________________________________________________\n",
            "dense_2 (Dense)              (None, 32)                25120     \n",
            "_________________________________________________________________\n",
            "dense_3 (Dense)              (None, 10)                330       \n",
            "=================================================================\n",
            "Total params: 815,678\n",
            "Trainable params: 815,678\n",
            "Non-trainable params: 0\n",
            "_________________________________________________________________\n"
          ],
          "name": "stdout"
        }
      ]
    },
    {
      "cell_type": "markdown",
      "metadata": {
        "id": "RBcoqvAH1hhk"
      },
      "source": [
        "##Server"
      ]
    },
    {
      "cell_type": "code",
      "metadata": {
        "colab": {
          "base_uri": "https://localhost:8080/"
        },
        "id": "36qNIIE71jhZ",
        "outputId": "0be4326f-1209-4c66-9428-982f855edd0f"
      },
      "source": [
        "s = time.time()\n",
        "w0, b0 = model.layers[0].get_weights()\n",
        "model_ = Sequential()\n",
        "for layer in model.layers[1:]:\n",
        "  model_.add(layer)\n",
        "model_.build(input_shape = model.layers[0].output_shape)\n",
        "w_reshape = w0.T\n",
        "listw = []\n",
        "for i in np.arange(w_reshape.shape[0]):\n",
        "    w_plus = [np.random.rand() for i in range(w_reshape.shape[-1])]\n",
        "    listw.append([w_reshape[i],w_plus])\n",
        "w = np.array(listw)\n",
        "k = np.array([[np.random.rand(),np.random.rand()],\n",
        "              [np.random.rand(),np.random.rand()]])\n",
        "kd = np.linalg.inv(k)\n",
        "listKW = []\n",
        "for i in np.arange(w.shape[0]):\n",
        "    listKW.append(k.dot(w[i]))\n",
        "kw = np.array(listKW)\n",
        "print('\\nTime: ',time.time() - s)"
      ],
      "execution_count": null,
      "outputs": [
        {
          "output_type": "stream",
          "text": [
            "\n",
            "Time:  0.27098965644836426\n"
          ],
          "name": "stdout"
        }
      ]
    },
    {
      "cell_type": "code",
      "metadata": {
        "id": "QN2LDGte2PgA"
      },
      "source": [
        "def Relu(x):\n",
        "    return np.maximum(x,0)"
      ],
      "execution_count": null,
      "outputs": []
    },
    {
      "cell_type": "markdown",
      "metadata": {
        "id": "RBTeWQWM2P0g"
      },
      "source": [
        "##Client"
      ]
    },
    {
      "cell_type": "code",
      "metadata": {
        "colab": {
          "base_uri": "https://localhost:8080/"
        },
        "id": "1ymnctEy3P7z",
        "outputId": "a7182670-7d6a-488e-b950-1d498d42e6b2"
      },
      "source": [
        "x_ = x_test[100:101]\n",
        "x_.shape"
      ],
      "execution_count": null,
      "outputs": [
        {
          "output_type": "execute_result",
          "data": {
            "text/plain": [
              "(1, 784)"
            ]
          },
          "metadata": {
            "tags": []
          },
          "execution_count": 16
        }
      ]
    },
    {
      "cell_type": "code",
      "metadata": {
        "colab": {
          "base_uri": "https://localhost:8080/"
        },
        "id": "qkzOB7zb2SUH",
        "outputId": "3292fb19-ca25-403d-e6fe-cc1fefeb7932"
      },
      "source": [
        "s = time.time()\n",
        "listWXX = []\n",
        "for xx in np.arange(x_.shape[0]):\n",
        "  x_plus = [np.random.rand() for i in range(x_.shape[-1])]\n",
        "  x = np.array([x_[xx],x_plus])\n",
        "  listWX = []\n",
        "  for i in np.arange(kw.shape[0]):\n",
        "      listWX.append(kw[i].dot(x.T))\n",
        "  \n",
        "  listWXX.append(listWX)\n",
        "wx = np.array(listWXX)\n",
        "print('\\nTime: ',time.time() - s)"
      ],
      "execution_count": null,
      "outputs": [
        {
          "output_type": "stream",
          "text": [
            "\n",
            "Time:  0.0036079883575439453\n"
          ],
          "name": "stdout"
        }
      ]
    },
    {
      "cell_type": "code",
      "metadata": {
        "colab": {
          "base_uri": "https://localhost:8080/"
        },
        "id": "df4blSxP-vRh",
        "outputId": "ca979c90-713a-46f9-ba0b-2b4a5ba72d3d"
      },
      "source": [
        "wx.shape"
      ],
      "execution_count": null,
      "outputs": [
        {
          "output_type": "execute_result",
          "data": {
            "text/plain": [
              "(1, 500, 2, 2)"
            ]
          },
          "metadata": {
            "tags": []
          },
          "execution_count": 20
        }
      ]
    },
    {
      "cell_type": "markdown",
      "metadata": {
        "id": "eJdNor8U2mh7"
      },
      "source": [
        "##Server\n",
        "###Sau kh nhận được wx từ Client"
      ]
    },
    {
      "cell_type": "code",
      "metadata": {
        "colab": {
          "base_uri": "https://localhost:8080/"
        },
        "id": "XHY_ldKA2u0N",
        "outputId": "3f61a708-e222-4e34-a94f-b66392c39e90"
      },
      "source": [
        "s = time.time()\n",
        "listKWX = []\n",
        "for ix in np.arange(wx.shape[0]):\n",
        "  listKWXX = []\n",
        "  for i in np.arange(wx.shape[1]):\n",
        "      w1 = kd.dot(wx[ix,i])\n",
        "      listKWXX.append(w1[0][0])\n",
        "  listKWX.append(listKWXX)\n",
        "wx_encode = np.array(listKWX)\n",
        "WX_relu = Relu(wx_encode + b0)\n",
        "model_.predict(WX_relu)\n",
        "print('\\nTime: ',time.time() - s)"
      ],
      "execution_count": null,
      "outputs": [
        {
          "output_type": "stream",
          "text": [
            "\n",
            "Time:  0.04667329788208008\n"
          ],
          "name": "stdout"
        }
      ]
    },
    {
      "cell_type": "code",
      "metadata": {
        "colab": {
          "base_uri": "https://localhost:8080/"
        },
        "id": "ciF0ZvtC6wBW",
        "outputId": "68ad1dab-ceb8-44f5-f0ae-a283a8d15869"
      },
      "source": [
        "s = time.time()\n",
        "model.predict(x_)\n",
        "print('\\nTime: ',time.time() - s)"
      ],
      "execution_count": null,
      "outputs": [
        {
          "output_type": "stream",
          "text": [
            "\n",
            "Time:  0.04452943801879883\n"
          ],
          "name": "stdout"
        }
      ]
    },
    {
      "cell_type": "code",
      "metadata": {
        "id": "dm1HOBgf9K2I"
      },
      "source": [
        ""
      ],
      "execution_count": null,
      "outputs": []
    }
  ]
}