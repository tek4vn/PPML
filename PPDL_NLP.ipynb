{
  "nbformat": 4,
  "nbformat_minor": 0,
  "metadata": {
    "colab": {
      "name": "PPDL_NLP.ipynb",
      "provenance": [],
      "mount_file_id": "17faBLdSt6QVsrnaKeD5c2xAQqqIaom4d",
      "authorship_tag": "ABX9TyPgVf8t2m0ojfXas5X+tOQM"
    },
    "kernelspec": {
      "name": "python3",
      "display_name": "Python 3"
    },
    "language_info": {
      "name": "python"
    }
  },
  "cells": [
    {
      "cell_type": "code",
      "metadata": {
        "colab": {
          "base_uri": "https://localhost:8080/"
        },
        "id": "H0k6MdAyNNYG",
        "outputId": "546e85ba-0400-40eb-fd5d-2b44d2f38fa2"
      },
      "source": [
        "import tensorflow as tf\n",
        "import matplotlib.pyplot as plt\n",
        "import pandas as pd\n",
        "import numpy as np\n",
        "import os\n",
        "import nltk \n",
        "nltk.download('stopwords')\n",
        "from nltk.corpus import stopwords\n",
        "from nltk.stem import SnowballStemmer\n",
        "from sklearn.model_selection import train_test_split\n",
        "from sklearn.preprocessing import LabelEncoder, OneHotEncoder\n",
        "import re\n"
      ],
      "execution_count": 1,
      "outputs": [
        {
          "output_type": "stream",
          "text": [
            "[nltk_data] Downloading package stopwords to /root/nltk_data...\n",
            "[nltk_data]   Unzipping corpora/stopwords.zip.\n"
          ],
          "name": "stdout"
        }
      ]
    },
    {
      "cell_type": "code",
      "metadata": {
        "id": "WwlS13ULNtCp"
      },
      "source": [
        "data = pd.read_csv('/content/drive/MyDrive/Do_an-NCKH/Dataset/spam_ham_dataset.csv')"
      ],
      "execution_count": 2,
      "outputs": []
    },
    {
      "cell_type": "code",
      "metadata": {
        "colab": {
          "base_uri": "https://localhost:8080/",
          "height": 419
        },
        "id": "1dzrxapLN6TC",
        "outputId": "262710b9-d3e2-48a3-8c8d-17e175d485fc"
      },
      "source": [
        "data"
      ],
      "execution_count": 3,
      "outputs": [
        {
          "output_type": "execute_result",
          "data": {
            "text/html": [
              "<div>\n",
              "<style scoped>\n",
              "    .dataframe tbody tr th:only-of-type {\n",
              "        vertical-align: middle;\n",
              "    }\n",
              "\n",
              "    .dataframe tbody tr th {\n",
              "        vertical-align: top;\n",
              "    }\n",
              "\n",
              "    .dataframe thead th {\n",
              "        text-align: right;\n",
              "    }\n",
              "</style>\n",
              "<table border=\"1\" class=\"dataframe\">\n",
              "  <thead>\n",
              "    <tr style=\"text-align: right;\">\n",
              "      <th></th>\n",
              "      <th>Unnamed: 0</th>\n",
              "      <th>label</th>\n",
              "      <th>text</th>\n",
              "      <th>label_num</th>\n",
              "    </tr>\n",
              "  </thead>\n",
              "  <tbody>\n",
              "    <tr>\n",
              "      <th>0</th>\n",
              "      <td>605</td>\n",
              "      <td>ham</td>\n",
              "      <td>Subject: enron methanol ; meter # : 988291\\r\\n...</td>\n",
              "      <td>0</td>\n",
              "    </tr>\n",
              "    <tr>\n",
              "      <th>1</th>\n",
              "      <td>2349</td>\n",
              "      <td>ham</td>\n",
              "      <td>Subject: hpl nom for january 9 , 2001\\r\\n( see...</td>\n",
              "      <td>0</td>\n",
              "    </tr>\n",
              "    <tr>\n",
              "      <th>2</th>\n",
              "      <td>3624</td>\n",
              "      <td>ham</td>\n",
              "      <td>Subject: neon retreat\\r\\nho ho ho , we ' re ar...</td>\n",
              "      <td>0</td>\n",
              "    </tr>\n",
              "    <tr>\n",
              "      <th>3</th>\n",
              "      <td>4685</td>\n",
              "      <td>spam</td>\n",
              "      <td>Subject: photoshop , windows , office . cheap ...</td>\n",
              "      <td>1</td>\n",
              "    </tr>\n",
              "    <tr>\n",
              "      <th>4</th>\n",
              "      <td>2030</td>\n",
              "      <td>ham</td>\n",
              "      <td>Subject: re : indian springs\\r\\nthis deal is t...</td>\n",
              "      <td>0</td>\n",
              "    </tr>\n",
              "    <tr>\n",
              "      <th>...</th>\n",
              "      <td>...</td>\n",
              "      <td>...</td>\n",
              "      <td>...</td>\n",
              "      <td>...</td>\n",
              "    </tr>\n",
              "    <tr>\n",
              "      <th>5166</th>\n",
              "      <td>1518</td>\n",
              "      <td>ham</td>\n",
              "      <td>Subject: put the 10 on the ft\\r\\nthe transport...</td>\n",
              "      <td>0</td>\n",
              "    </tr>\n",
              "    <tr>\n",
              "      <th>5167</th>\n",
              "      <td>404</td>\n",
              "      <td>ham</td>\n",
              "      <td>Subject: 3 / 4 / 2000 and following noms\\r\\nhp...</td>\n",
              "      <td>0</td>\n",
              "    </tr>\n",
              "    <tr>\n",
              "      <th>5168</th>\n",
              "      <td>2933</td>\n",
              "      <td>ham</td>\n",
              "      <td>Subject: calpine daily gas nomination\\r\\n&gt;\\r\\n...</td>\n",
              "      <td>0</td>\n",
              "    </tr>\n",
              "    <tr>\n",
              "      <th>5169</th>\n",
              "      <td>1409</td>\n",
              "      <td>ham</td>\n",
              "      <td>Subject: industrial worksheets for august 2000...</td>\n",
              "      <td>0</td>\n",
              "    </tr>\n",
              "    <tr>\n",
              "      <th>5170</th>\n",
              "      <td>4807</td>\n",
              "      <td>spam</td>\n",
              "      <td>Subject: important online banking alert\\r\\ndea...</td>\n",
              "      <td>1</td>\n",
              "    </tr>\n",
              "  </tbody>\n",
              "</table>\n",
              "<p>5171 rows × 4 columns</p>\n",
              "</div>"
            ],
            "text/plain": [
              "      Unnamed: 0  ... label_num\n",
              "0            605  ...         0\n",
              "1           2349  ...         0\n",
              "2           3624  ...         0\n",
              "3           4685  ...         1\n",
              "4           2030  ...         0\n",
              "...          ...  ...       ...\n",
              "5166        1518  ...         0\n",
              "5167         404  ...         0\n",
              "5168        2933  ...         0\n",
              "5169        1409  ...         0\n",
              "5170        4807  ...         1\n",
              "\n",
              "[5171 rows x 4 columns]"
            ]
          },
          "metadata": {
            "tags": []
          },
          "execution_count": 3
        }
      ]
    },
    {
      "cell_type": "code",
      "metadata": {
        "colab": {
          "base_uri": "https://localhost:8080/",
          "height": 204
        },
        "id": "t2X_mFU3N7lg",
        "outputId": "6b2cf958-a9f6-47d0-df8c-fcbb24891587"
      },
      "source": [
        "data = data.drop(['Unnamed: 0', 'label'], axis=1)\n",
        "data.head()"
      ],
      "execution_count": 4,
      "outputs": [
        {
          "output_type": "execute_result",
          "data": {
            "text/html": [
              "<div>\n",
              "<style scoped>\n",
              "    .dataframe tbody tr th:only-of-type {\n",
              "        vertical-align: middle;\n",
              "    }\n",
              "\n",
              "    .dataframe tbody tr th {\n",
              "        vertical-align: top;\n",
              "    }\n",
              "\n",
              "    .dataframe thead th {\n",
              "        text-align: right;\n",
              "    }\n",
              "</style>\n",
              "<table border=\"1\" class=\"dataframe\">\n",
              "  <thead>\n",
              "    <tr style=\"text-align: right;\">\n",
              "      <th></th>\n",
              "      <th>text</th>\n",
              "      <th>label_num</th>\n",
              "    </tr>\n",
              "  </thead>\n",
              "  <tbody>\n",
              "    <tr>\n",
              "      <th>0</th>\n",
              "      <td>Subject: enron methanol ; meter # : 988291\\r\\n...</td>\n",
              "      <td>0</td>\n",
              "    </tr>\n",
              "    <tr>\n",
              "      <th>1</th>\n",
              "      <td>Subject: hpl nom for january 9 , 2001\\r\\n( see...</td>\n",
              "      <td>0</td>\n",
              "    </tr>\n",
              "    <tr>\n",
              "      <th>2</th>\n",
              "      <td>Subject: neon retreat\\r\\nho ho ho , we ' re ar...</td>\n",
              "      <td>0</td>\n",
              "    </tr>\n",
              "    <tr>\n",
              "      <th>3</th>\n",
              "      <td>Subject: photoshop , windows , office . cheap ...</td>\n",
              "      <td>1</td>\n",
              "    </tr>\n",
              "    <tr>\n",
              "      <th>4</th>\n",
              "      <td>Subject: re : indian springs\\r\\nthis deal is t...</td>\n",
              "      <td>0</td>\n",
              "    </tr>\n",
              "  </tbody>\n",
              "</table>\n",
              "</div>"
            ],
            "text/plain": [
              "                                                text  label_num\n",
              "0  Subject: enron methanol ; meter # : 988291\\r\\n...          0\n",
              "1  Subject: hpl nom for january 9 , 2001\\r\\n( see...          0\n",
              "2  Subject: neon retreat\\r\\nho ho ho , we ' re ar...          0\n",
              "3  Subject: photoshop , windows , office . cheap ...          1\n",
              "4  Subject: re : indian springs\\r\\nthis deal is t...          0"
            ]
          },
          "metadata": {
            "tags": []
          },
          "execution_count": 4
        }
      ]
    },
    {
      "cell_type": "code",
      "metadata": {
        "colab": {
          "base_uri": "https://localhost:8080/",
          "height": 298
        },
        "id": "g9eFqfVMOAgG",
        "outputId": "b79b668e-5b12-4043-dd84-39be2615678a"
      },
      "source": [
        "val_count = data.label_num.value_counts()\n",
        "plt.figure(figsize=(8,4))\n",
        "plt.bar(val_count.index, val_count.values)\n",
        "plt.title(\"Spam/ham Data Distribution\")"
      ],
      "execution_count": 5,
      "outputs": [
        {
          "output_type": "execute_result",
          "data": {
            "text/plain": [
              "Text(0.5, 1.0, 'Spam/ham Data Distribution')"
            ]
          },
          "metadata": {
            "tags": []
          },
          "execution_count": 5
        },
        {
          "output_type": "display_data",
          "data": {
            "image/png": "[encoded data removed]",
            "text/plain": [
              "<Figure size 576x288 with 1 Axes>"
            ]
          },
          "metadata": {
            "tags": [],
            "needs_background": "light"
          }
        }
      ]
    },
    {
      "cell_type": "code",
      "metadata": {
        "colab": {
          "base_uri": "https://localhost:8080/",
          "height": 204
        },
        "id": "qGeJIzDwOEqD",
        "outputId": "00956ab7-b518-4faf-a4dd-804c91e38a7a"
      },
      "source": [
        "stop_words = stopwords.words('english')\n",
        "stemmer = SnowballStemmer('english')\n",
        "\n",
        "text_cleaning_re = \"@\\S+|https?:\\S+|http?:\\S+|[^A-Za-z0-9]:\\S+|subject:\\S+|nbsp\"\n",
        "data.head()"
      ],
      "execution_count": 7,
      "outputs": [
        {
          "output_type": "execute_result",
          "data": {
            "text/html": [
              "<div>\n",
              "<style scoped>\n",
              "    .dataframe tbody tr th:only-of-type {\n",
              "        vertical-align: middle;\n",
              "    }\n",
              "\n",
              "    .dataframe tbody tr th {\n",
              "        vertical-align: top;\n",
              "    }\n",
              "\n",
              "    .dataframe thead th {\n",
              "        text-align: right;\n",
              "    }\n",
              "</style>\n",
              "<table border=\"1\" class=\"dataframe\">\n",
              "  <thead>\n",
              "    <tr style=\"text-align: right;\">\n",
              "      <th></th>\n",
              "      <th>text</th>\n",
              "      <th>label_num</th>\n",
              "    </tr>\n",
              "  </thead>\n",
              "  <tbody>\n",
              "    <tr>\n",
              "      <th>0</th>\n",
              "      <td>Subject: enron methanol ; meter # : 988291\\r\\n...</td>\n",
              "      <td>0</td>\n",
              "    </tr>\n",
              "    <tr>\n",
              "      <th>1</th>\n",
              "      <td>Subject: hpl nom for january 9 , 2001\\r\\n( see...</td>\n",
              "      <td>0</td>\n",
              "    </tr>\n",
              "    <tr>\n",
              "      <th>2</th>\n",
              "      <td>Subject: neon retreat\\r\\nho ho ho , we ' re ar...</td>\n",
              "      <td>0</td>\n",
              "    </tr>\n",
              "    <tr>\n",
              "      <th>3</th>\n",
              "      <td>Subject: photoshop , windows , office . cheap ...</td>\n",
              "      <td>1</td>\n",
              "    </tr>\n",
              "    <tr>\n",
              "      <th>4</th>\n",
              "      <td>Subject: re : indian springs\\r\\nthis deal is t...</td>\n",
              "      <td>0</td>\n",
              "    </tr>\n",
              "  </tbody>\n",
              "</table>\n",
              "</div>"
            ],
            "text/plain": [
              "                                                text  label_num\n",
              "0  Subject: enron methanol ; meter # : 988291\\r\\n...          0\n",
              "1  Subject: hpl nom for january 9 , 2001\\r\\n( see...          0\n",
              "2  Subject: neon retreat\\r\\nho ho ho , we ' re ar...          0\n",
              "3  Subject: photoshop , windows , office . cheap ...          1\n",
              "4  Subject: re : indian springs\\r\\nthis deal is t...          0"
            ]
          },
          "metadata": {
            "tags": []
          },
          "execution_count": 7
        }
      ]
    },
    {
      "cell_type": "code",
      "metadata": {
        "id": "soefeHw6OHW5"
      },
      "source": [
        "def preprocess(text, stem=False):\n",
        "    text = re.sub(text_cleaning_re, ' ', str(text).lower()).strip()\n",
        "    tokens = []\n",
        "    for token in text.split():\n",
        "        if token not in stop_words:\n",
        "            if stem:\n",
        "                tokens.append(stemmer.stem(token))\n",
        "            else:\n",
        "                tokens.append(token)\n",
        "    return \" \".join(tokens)"
      ],
      "execution_count": 8,
      "outputs": []
    },
    {
      "cell_type": "code",
      "metadata": {
        "colab": {
          "base_uri": "https://localhost:8080/",
          "height": 204
        },
        "id": "gI7RNBIJONaM",
        "outputId": "b8438b29-43aa-41cb-d6ec-b8d0ca595157"
      },
      "source": [
        "\n",
        "data.text = data.text.apply(lambda x: preprocess(x))\n",
        "data.head()"
      ],
      "execution_count": 9,
      "outputs": [
        {
          "output_type": "execute_result",
          "data": {
            "text/html": [
              "<div>\n",
              "<style scoped>\n",
              "    .dataframe tbody tr th:only-of-type {\n",
              "        vertical-align: middle;\n",
              "    }\n",
              "\n",
              "    .dataframe tbody tr th {\n",
              "        vertical-align: top;\n",
              "    }\n",
              "\n",
              "    .dataframe thead th {\n",
              "        text-align: right;\n",
              "    }\n",
              "</style>\n",
              "<table border=\"1\" class=\"dataframe\">\n",
              "  <thead>\n",
              "    <tr style=\"text-align: right;\">\n",
              "      <th></th>\n",
              "      <th>text</th>\n",
              "      <th>label_num</th>\n",
              "    </tr>\n",
              "  </thead>\n",
              "  <tbody>\n",
              "    <tr>\n",
              "      <th>0</th>\n",
              "      <td>subject: enron methanol ; meter # : 988291 fol...</td>\n",
              "      <td>0</td>\n",
              "    </tr>\n",
              "    <tr>\n",
              "      <th>1</th>\n",
              "      <td>subject: hpl nom january 9 , 2001 ( see attach...</td>\n",
              "      <td>0</td>\n",
              "    </tr>\n",
              "    <tr>\n",
              "      <th>2</th>\n",
              "      <td>subject: neon retreat ho ho ho , ' around wond...</td>\n",
              "      <td>0</td>\n",
              "    </tr>\n",
              "    <tr>\n",
              "      <th>3</th>\n",
              "      <td>subject: photoshop , windows , office . cheap ...</td>\n",
              "      <td>1</td>\n",
              "    </tr>\n",
              "    <tr>\n",
              "      <th>4</th>\n",
              "      <td>subject: : indian springs deal book teco pvr r...</td>\n",
              "      <td>0</td>\n",
              "    </tr>\n",
              "  </tbody>\n",
              "</table>\n",
              "</div>"
            ],
            "text/plain": [
              "                                                text  label_num\n",
              "0  subject: enron methanol ; meter # : 988291 fol...          0\n",
              "1  subject: hpl nom january 9 , 2001 ( see attach...          0\n",
              "2  subject: neon retreat ho ho ho , ' around wond...          0\n",
              "3  subject: photoshop , windows , office . cheap ...          1\n",
              "4  subject: : indian springs deal book teco pvr r...          0"
            ]
          },
          "metadata": {
            "tags": []
          },
          "execution_count": 9
        }
      ]
    },
    {
      "cell_type": "code",
      "metadata": {
        "colab": {
          "base_uri": "https://localhost:8080/"
        },
        "id": "z-rfJbEVORjP",
        "outputId": "83af6973-2044-4daf-c53b-a5d44b572500"
      },
      "source": [
        "TRAIN_SIZE = 0.8\n",
        "MAX_NB_WORDS = 100000\n",
        "MAX_SEQUENCE_LENGTH = 50\n",
        "x = data['text']\n",
        "y = data['label_num']\n",
        "x_train, x_test, y_train, y_test = train_test_split(x, y, test_size=1-TRAIN_SIZE,\n",
        "                                         random_state=7) # Splits Dataset into Training and Testing set\n",
        "print(\"Train Data size:\", len(x_train))\n",
        "print(\"Test Data size\", len(x_test))"
      ],
      "execution_count": 10,
      "outputs": [
        {
          "output_type": "stream",
          "text": [
            "Train Data size: 4136\n",
            "Test Data size 1035\n"
          ],
          "name": "stdout"
        }
      ]
    },
    {
      "cell_type": "code",
      "metadata": {
        "id": "gZly6A67OYrK"
      },
      "source": [
        ""
      ],
      "execution_count": null,
      "outputs": []
    },
    {
      "cell_type": "markdown",
      "metadata": {
        "id": "ibNa09gGOd5l"
      },
      "source": [
        "# TOKENIZER"
      ]
    },
    {
      "cell_type": "code",
      "metadata": {
        "colab": {
          "base_uri": "https://localhost:8080/"
        },
        "id": "BRN8UIA1Oems",
        "outputId": "4ad0b380-81a0-4637-a111-5790d13e08df"
      },
      "source": [
        "from keras.preprocessing.text import Tokenizer\n",
        "\n",
        "tokenizer = Tokenizer()\n",
        "tokenizer.fit_on_texts(x_train)\n",
        "\n",
        "word_index = tokenizer.word_index\n",
        "vocab_size = len(tokenizer.word_index) + 1000\n",
        "print(\"Vocabulary Size :\", vocab_size)"
      ],
      "execution_count": 11,
      "outputs": [
        {
          "output_type": "stream",
          "text": [
            "Vocabulary Size : 44790\n"
          ],
          "name": "stdout"
        }
      ]
    },
    {
      "cell_type": "code",
      "metadata": {
        "colab": {
          "base_uri": "https://localhost:8080/"
        },
        "id": "f8KZstxdOgVj",
        "outputId": "686bdac9-add2-41b4-eb75-c023f228a8e4"
      },
      "source": [
        "from keras.preprocessing.sequence import pad_sequences\n",
        "\n",
        "x_train = pad_sequences(tokenizer.texts_to_sequences(x_train),\n",
        "                        maxlen = MAX_SEQUENCE_LENGTH)\n",
        "x_test = pad_sequences(tokenizer.texts_to_sequences(x_test),\n",
        "                       maxlen = MAX_SEQUENCE_LENGTH)\n",
        "\n",
        "print(\"Training X Shape:\",x_train.shape)\n",
        "print(\"Testing X Shape:\",x_test.shape)"
      ],
      "execution_count": 12,
      "outputs": [
        {
          "output_type": "stream",
          "text": [
            "Training X Shape: (4136, 50)\n",
            "Testing X Shape: (1035, 50)\n"
          ],
          "name": "stdout"
        }
      ]
    },
    {
      "cell_type": "code",
      "metadata": {
        "id": "E_JIABG4OiEZ"
      },
      "source": [
        ""
      ],
      "execution_count": null,
      "outputs": []
    },
    {
      "cell_type": "markdown",
      "metadata": {
        "id": "1WJmEdAWOl40"
      },
      "source": [
        "# LSTM"
      ]
    },
    {
      "cell_type": "code",
      "metadata": {
        "id": "sBkquL77OmWO"
      },
      "source": [
        "#LSTM hyperparameters\n",
        "n_lstm = 200\n",
        "drop_lstm =0.2\n"
      ],
      "execution_count": 13,
      "outputs": []
    },
    {
      "cell_type": "code",
      "metadata": {
        "id": "fX807V3DOqsM"
      },
      "source": [
        "from tensorflow.keras.callbacks import EarlyStopping\n",
        "from tensorflow.keras.models import Sequential\n",
        "from tensorflow.keras.layers import Embedding, GlobalAveragePooling1D, Dense, Dropout, LSTM, Bidirectional"
      ],
      "execution_count": 14,
      "outputs": []
    },
    {
      "cell_type": "code",
      "metadata": {
        "id": "TpV-AJkBOrOA"
      },
      "source": [
        "embeding_dim = 16\n"
      ],
      "execution_count": 15,
      "outputs": []
    },
    {
      "cell_type": "code",
      "metadata": {
        "id": "fUSczIiwOxkX"
      },
      "source": [
        "model2 = Sequential()\n",
        "model2.add(Embedding(vocab_size, embeding_dim, input_length=MAX_SEQUENCE_LENGTH))\n",
        "model2.add(Bidirectional(LSTM(n_lstm, dropout=drop_lstm, return_sequences=True)))\n",
        "model2.add(Dense(1, activation='sigmoid'))\n",
        "model2.compile(loss = 'binary_crossentropy', optimizer = 'adam', metrics=['accuracy'])"
      ],
      "execution_count": 16,
      "outputs": []
    },
    {
      "cell_type": "code",
      "metadata": {
        "colab": {
          "base_uri": "https://localhost:8080/"
        },
        "id": "Rc8LFQ9aO3WL",
        "outputId": "460340de-498e-404c-e2b5-e946b3d98c7f"
      },
      "source": [
        "# Training\n",
        "num_epochs = 30\n",
        "early_stop = EarlyStopping(monitor='val_loss', patience=2)\n",
        "history = model2.fit(x_train, y_train, epochs=num_epochs, \n",
        "                    validation_data=(x_test, y_test),callbacks =[early_stop], verbose=2)"
      ],
      "execution_count": 17,
      "outputs": [
        {
          "output_type": "stream",
          "text": [
            "Epoch 1/30\n",
            "130/130 - 20s - loss: 0.3171 - accuracy: 0.8647 - val_loss: 0.1063 - val_accuracy: 0.9703\n",
            "Epoch 2/30\n",
            "130/130 - 16s - loss: 0.0429 - accuracy: 0.9878 - val_loss: 0.1316 - val_accuracy: 0.9713\n",
            "Epoch 3/30\n",
            "130/130 - 16s - loss: 0.0312 - accuracy: 0.9945 - val_loss: 0.0947 - val_accuracy: 0.9756\n",
            "Epoch 4/30\n",
            "130/130 - 16s - loss: 0.0086 - accuracy: 0.9986 - val_loss: 0.1139 - val_accuracy: 0.9783\n",
            "Epoch 5/30\n",
            "130/130 - 16s - loss: 0.0143 - accuracy: 0.9977 - val_loss: 0.2058 - val_accuracy: 0.9623\n"
          ],
          "name": "stdout"
        }
      ]
    },
    {
      "cell_type": "code",
      "metadata": {
        "colab": {
          "base_uri": "https://localhost:8080/",
          "height": 573
        },
        "id": "5qnpkmWPO6H2",
        "outputId": "71053187-2bcd-4ebd-95f6-dbf10dfa204f"
      },
      "source": [
        "# Create a dataframe\n",
        "metrics = pd.DataFrame(history.history)\n",
        "# Rename column\n",
        "metrics.rename(columns = {'loss': 'Training_Loss', 'accuracy': 'Training_Accuracy',\n",
        "                         'val_loss': 'Validation_Loss', 'val_accuracy': 'Validation_Accuracy'}, inplace = True)\n",
        "def plot_graphs1(var1, var2, string):\n",
        "    metrics[[var1, var2]].plot()\n",
        "    plt.title('BiLSTM Model: Training and Validation ' + string)\n",
        "    plt.xlabel ('Number of epochs')\n",
        "    plt.ylabel(string)\n",
        "    plt.legend([var1, var2])\n",
        "# Plot\n",
        "plot_graphs1('Training_Loss', 'Validation_Loss', 'loss')\n",
        "plot_graphs1('Training_Accuracy', 'Validation_Accuracy', 'accuracy')"
      ],
      "execution_count": 18,
      "outputs": [
        {
          "output_type": "display_data",
          "data": {
            "image/png": "[encoded data removed]",
            "text/plain": [
              "<Figure size 432x288 with 1 Axes>"
            ]
          },
          "metadata": {
            "tags": [],
            "needs_background": "light"
          }
        },
        {
          "output_type": "display_data",
          "data": {
            "image/png": "[encoded data removed]",
            "text/plain": [
              "<Figure size 432x288 with 1 Axes>"
            ]
          },
          "metadata": {
            "tags": [],
            "needs_background": "light"
          }
        }
      ]
    },
    {
      "cell_type": "code",
      "metadata": {
        "id": "c7dacICIO973"
      },
      "source": [
        ""
      ],
      "execution_count": null,
      "outputs": []
    },
    {
      "cell_type": "markdown",
      "metadata": {
        "id": "S7Tw8D6gPLDd"
      },
      "source": [
        "# PPDL"
      ]
    },
    {
      "cell_type": "code",
      "metadata": {
        "id": "ZNi8n3BUPMdy"
      },
      "source": [
        "model1 = Sequential()\n",
        "model1.add(model2.layers[0])\n"
      ],
      "execution_count": 19,
      "outputs": []
    },
    {
      "cell_type": "code",
      "metadata": {
        "id": "SbcIzaADPQY0"
      },
      "source": [
        "x_input = x_test[0:5]\n",
        "y_model = model1.predict(x_input) # Dùng để so sánh kết quả"
      ],
      "execution_count": 20,
      "outputs": []
    },
    {
      "cell_type": "markdown",
      "metadata": {
        "id": "b0Myv5gQPVJv"
      },
      "source": [
        "## Server"
      ]
    },
    {
      "cell_type": "code",
      "metadata": {
        "id": "o51fwiEUPSwD"
      },
      "source": [
        "model = Sequential()\n",
        "for layer in model2.layers[1:]:\n",
        "  model.add(layer)\n",
        "model.build(input_shape = model2.layers[0].output_shape)"
      ],
      "execution_count": 21,
      "outputs": []
    },
    {
      "cell_type": "code",
      "metadata": {
        "colab": {
          "base_uri": "https://localhost:8080/"
        },
        "id": "7KyapxGVPc35",
        "outputId": "6468a815-1190-4df9-cfc3-1b874c30f6d6"
      },
      "source": [
        "lstW = model2.layers[0].get_weights()[0] #Lấy weight của layer 0\n",
        "lstW.shape"
      ],
      "execution_count": 22,
      "outputs": [
        {
          "output_type": "execute_result",
          "data": {
            "text/plain": [
              "(44790, 16)"
            ]
          },
          "metadata": {
            "tags": []
          },
          "execution_count": 22
        }
      ]
    },
    {
      "cell_type": "code",
      "metadata": {
        "id": "SJXlYtLRPfmY"
      },
      "source": [
        "k = np.random.rand(2,2).astype(np.float32)\n",
        "kd = np.linalg.inv(k)"
      ],
      "execution_count": 23,
      "outputs": []
    },
    {
      "cell_type": "code",
      "metadata": {
        "id": "H4GahNcsPllR"
      },
      "source": [
        "lk = []\n",
        "for i in range(lstW.shape[0]):\n",
        "  wi = lstW[i,:]\n",
        "  w_plus = np.random.uniform(-1, 1, len(wi)).astype(np.float32)\n",
        "  w_ = np.array([wi, w_plus])\n",
        "  lk.append(k.dot(w_))\n",
        "#Tạo nhiễu và nhân với khóa K để khi gửi về Client không bị lộ Weight\n",
        "LW = tf.convert_to_tensor(lk)"
      ],
      "execution_count": 24,
      "outputs": []
    },
    {
      "cell_type": "code",
      "metadata": {
        "colab": {
          "base_uri": "https://localhost:8080/"
        },
        "id": "ykjEudKEPmYm",
        "outputId": "968d6157-40ff-4e52-a915-0739071f486c"
      },
      "source": [
        "LW.shape"
      ],
      "execution_count": 25,
      "outputs": [
        {
          "output_type": "execute_result",
          "data": {
            "text/plain": [
              "TensorShape([44790, 2, 16])"
            ]
          },
          "metadata": {
            "tags": []
          },
          "execution_count": 25
        }
      ]
    },
    {
      "cell_type": "markdown",
      "metadata": {
        "id": "kVDZ97EjPqu6"
      },
      "source": [
        "## Client"
      ]
    },
    {
      "cell_type": "code",
      "metadata": {
        "id": "XZf_rdTKPoJb"
      },
      "source": [
        "X = np.zeros((x_input.shape[0], x_input.shape[1], 2))\n",
        "for i in range(X.shape[0]):\n",
        "  X_ = []\n",
        "  for j in x_input[i]:\n",
        "    x_ = np.random.randint(0, LW.shape[0])\n",
        "    xx = [j, x_]\n",
        "    X_.append(xx)\n",
        "    j += 1\n",
        "  X[i] = X_\n",
        "#Tạo nhiễu cho Input"
      ],
      "execution_count": 26,
      "outputs": []
    },
    {
      "cell_type": "code",
      "metadata": {
        "id": "RBhuAEM7P7RC"
      },
      "source": [
        "X_one_hot = tf.one_hot(X, LW.shape[0]) \n",
        "Y0 = X_one_hot@LW[:,0]\n",
        "Y1 = X_one_hot@LW[:,1]"
      ],
      "execution_count": 27,
      "outputs": []
    },
    {
      "cell_type": "code",
      "metadata": {
        "id": "z30-SgLpQBhA"
      },
      "source": [
        "Y = np.zeros_like(Y0)\n",
        "for i in range(Y0.shape[0]):\n",
        "  for j in range(Y0.shape[1]):\n",
        "    Y[i,j,0] = Y0[i,j,0]\n",
        "    Y[i,j,1] = Y1[i,j,0]\n",
        "Y = tf.convert_to_tensor(Y)"
      ],
      "execution_count": 28,
      "outputs": []
    },
    {
      "cell_type": "code",
      "metadata": {
        "colab": {
          "base_uri": "https://localhost:8080/"
        },
        "id": "UnS3o0jcQEw0",
        "outputId": "c8d9206e-829c-4850-bd95-6a1464de7c2b"
      },
      "source": [
        "Y.shape"
      ],
      "execution_count": 29,
      "outputs": [
        {
          "output_type": "execute_result",
          "data": {
            "text/plain": [
              "TensorShape([5, 50, 2, 16])"
            ]
          },
          "metadata": {
            "tags": []
          },
          "execution_count": 29
        }
      ]
    },
    {
      "cell_type": "markdown",
      "metadata": {
        "id": "ahPvKYZBQJDz"
      },
      "source": [
        "## Serer"
      ]
    },
    {
      "cell_type": "code",
      "metadata": {
        "id": "-ftTRVodQGha"
      },
      "source": [
        "lstY = []\n",
        "for i in range(Y.shape[0]):\n",
        "  lst = []\n",
        "  for j in range(Y.shape[1]):\n",
        "    y_ = kd@Y[i,j]\n",
        "    lst.append(y_[0]) \n",
        "  lstY.append(lst)\n",
        "lstY = tf.convert_to_tensor(lstY)"
      ],
      "execution_count": 30,
      "outputs": []
    },
    {
      "cell_type": "code",
      "metadata": {
        "colab": {
          "base_uri": "https://localhost:8080/"
        },
        "id": "S84KcRaDQO3X",
        "outputId": "7de4f7a0-9b16-4a85-e0f2-9b1a8f57193f"
      },
      "source": [
        "model.predict(lstY)[0]"
      ],
      "execution_count": 31,
      "outputs": [
        {
          "output_type": "execute_result",
          "data": {
            "text/plain": [
              "array([[0.9964959 ],\n",
              "       [0.99758184],\n",
              "       [0.99834263],\n",
              "       [0.9987738 ],\n",
              "       [0.99880624],\n",
              "       [0.9987504 ],\n",
              "       [0.999037  ],\n",
              "       [0.99931854],\n",
              "       [0.9994867 ],\n",
              "       [0.9994354 ],\n",
              "       [0.9995489 ],\n",
              "       [0.9996524 ],\n",
              "       [0.9996232 ],\n",
              "       [0.99964225],\n",
              "       [0.9996158 ],\n",
              "       [0.9997346 ],\n",
              "       [0.99978805],\n",
              "       [0.99985325],\n",
              "       [0.99987954],\n",
              "       [0.999912  ],\n",
              "       [0.9999109 ],\n",
              "       [0.99993736],\n",
              "       [0.9999577 ],\n",
              "       [0.99997   ],\n",
              "       [0.9999724 ],\n",
              "       [0.9999788 ],\n",
              "       [0.99998176],\n",
              "       [0.999984  ],\n",
              "       [0.9999808 ],\n",
              "       [0.9999763 ],\n",
              "       [0.9999797 ],\n",
              "       [0.99997383],\n",
              "       [0.999964  ],\n",
              "       [0.99996364],\n",
              "       [0.99993765],\n",
              "       [0.9999167 ],\n",
              "       [0.99988997],\n",
              "       [0.999854  ],\n",
              "       [0.99979806],\n",
              "       [0.99974525],\n",
              "       [0.99971104],\n",
              "       [0.9995435 ],\n",
              "       [0.9995279 ],\n",
              "       [0.9993092 ],\n",
              "       [0.9992585 ],\n",
              "       [0.9991989 ],\n",
              "       [0.9989644 ],\n",
              "       [0.9986179 ],\n",
              "       [0.99865294],\n",
              "       [0.99782753]], dtype=float32)"
            ]
          },
          "metadata": {
            "tags": []
          },
          "execution_count": 31
        }
      ]
    },
    {
      "cell_type": "code",
      "metadata": {
        "colab": {
          "base_uri": "https://localhost:8080/"
        },
        "id": "pdCSoI4PQUL2",
        "outputId": "68f8bd2e-0404-41f0-dd52-6c4566420768"
      },
      "source": [
        "model2.predict(x_input)[0]"
      ],
      "execution_count": 32,
      "outputs": [
        {
          "output_type": "execute_result",
          "data": {
            "text/plain": [
              "array([[0.9964959 ],\n",
              "       [0.99758184],\n",
              "       [0.99834263],\n",
              "       [0.99877375],\n",
              "       [0.9988062 ],\n",
              "       [0.9987504 ],\n",
              "       [0.999037  ],\n",
              "       [0.99931854],\n",
              "       [0.9994867 ],\n",
              "       [0.9994354 ],\n",
              "       [0.9995489 ],\n",
              "       [0.99965227],\n",
              "       [0.9996232 ],\n",
              "       [0.99964225],\n",
              "       [0.9996158 ],\n",
              "       [0.9997346 ],\n",
              "       [0.99978805],\n",
              "       [0.99985325],\n",
              "       [0.99987954],\n",
              "       [0.999912  ],\n",
              "       [0.9999109 ],\n",
              "       [0.99993736],\n",
              "       [0.9999577 ],\n",
              "       [0.99997   ],\n",
              "       [0.9999724 ],\n",
              "       [0.9999788 ],\n",
              "       [0.99998176],\n",
              "       [0.99998415],\n",
              "       [0.9999808 ],\n",
              "       [0.9999763 ],\n",
              "       [0.9999797 ],\n",
              "       [0.99997383],\n",
              "       [0.999964  ],\n",
              "       [0.99996364],\n",
              "       [0.99993765],\n",
              "       [0.9999167 ],\n",
              "       [0.99988997],\n",
              "       [0.999854  ],\n",
              "       [0.99979806],\n",
              "       [0.99974525],\n",
              "       [0.99971104],\n",
              "       [0.9995435 ],\n",
              "       [0.9995279 ],\n",
              "       [0.9993092 ],\n",
              "       [0.99925864],\n",
              "       [0.999199  ],\n",
              "       [0.9989644 ],\n",
              "       [0.9986179 ],\n",
              "       [0.99865294],\n",
              "       [0.99782753]], dtype=float32)"
            ]
          },
          "metadata": {
            "tags": []
          },
          "execution_count": 32
        }
      ]
    },
    {
      "cell_type": "code",
      "metadata": {
        "id": "ZiOS78q9QXjp"
      },
      "source": [
        "#Check xong, 2 kết qủa dự đoán đều giông nhau. "
      ],
      "execution_count": 33,
      "outputs": []
    },
    {
      "cell_type": "code",
      "metadata": {
        "id": "fUF5Fy5PQbMG"
      },
      "source": [
        ""
      ],
      "execution_count": null,
      "outputs": []
    }
  ]
}