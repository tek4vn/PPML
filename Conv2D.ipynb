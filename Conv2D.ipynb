{
  "nbformat": 4,
  "nbformat_minor": 0,
  "metadata": {
    "colab": {
      "name": "Do_an-color.ipynb",
      "provenance": [],
      "collapsed_sections": [],
      "mount_file_id": "1Anxr9ApFA8mfsbOx4gS1z2aqgG38uuzB",
      "authorship_tag": "ABX9TyMMCS03N/WQTllH78dXU1nQ"
    },
    "kernelspec": {
      "name": "python3",
      "display_name": "Python 3"
    }
  },
  "cells": [
    {
      "cell_type": "code",
      "metadata": {
        "colab": {
          "base_uri": "https://localhost:8080/"
        },
        "id": "Z0jAu867C4I7",
        "outputId": "709e191d-b467-419d-fa92-e92de111ca72"
      },
      "source": [
        "import matplotlib.pyplot as plt\n",
        "import numpy as np\n",
        "from tensorflow.keras.models import Sequential,Model,load_model\n",
        "from tensorflow.keras.layers import Input, Activation, Flatten, Dense, Dropout,Reshape\n",
        "from tensorflow.keras.layers import Conv2D, MaxPooling2D\n",
        "from tensorflow.keras.utils import to_categorical\n",
        "from tensorflow.keras.optimizers import SGD\n",
        "import time\n",
        "from tensorflow.keras.datasets import cifar10\n",
        "(img_train, label_train), (img_test, label_test) = cifar10.load_data()"
      ],
      "execution_count": 1,
      "outputs": [
        {
          "output_type": "stream",
          "text": [
            "Downloading data from https://www.cs.toronto.edu/~kriz/cifar-10-python.tar.gz\n",
            "170500096/170498071 [==============================] - 4s 0us/step\n"
          ],
          "name": "stdout"
        }
      ]
    },
    {
      "cell_type": "code",
      "metadata": {
        "id": "PIAJH-v4nIM5"
      },
      "source": [
        "x_train = img_train.astype('float32') / 255\n",
        "x_test = img_test.astype('float32') / 255\n",
        "y_train = to_categorical(label_train)\n",
        "y_test = to_categorical(label_test)"
      ],
      "execution_count": 2,
      "outputs": []
    },
    {
      "cell_type": "code",
      "metadata": {
        "id": "HllEYAVDnKX_"
      },
      "source": [
        "model_new = load_model('/content/drive/MyDrive/Do_an-NCKH/model_Conv2D.h5', compile=False)"
      ],
      "execution_count": 4,
      "outputs": []
    },
    {
      "cell_type": "code",
      "metadata": {
        "id": "fVWpJHM5aBCB",
        "colab": {
          "base_uri": "https://localhost:8080/"
        },
        "outputId": "b3f1e0dc-968f-4704-f594-7cba7d027116"
      },
      "source": [
        "model_new.summary()"
      ],
      "execution_count": 5,
      "outputs": [
        {
          "output_type": "stream",
          "text": [
            "Model: \"sequential\"\n",
            "_________________________________________________________________\n",
            "Layer (type)                 Output Shape              Param #   \n",
            "=================================================================\n",
            "conv2d (Conv2D)              (None, 30, 30, 32)        896       \n",
            "_________________________________________________________________\n",
            "max_pooling2d (MaxPooling2D) (None, 15, 15, 32)        0         \n",
            "_________________________________________________________________\n",
            "dropout (Dropout)            (None, 15, 15, 32)        0         \n",
            "_________________________________________________________________\n",
            "conv2d_1 (Conv2D)            (None, 15, 15, 16)        4624      \n",
            "_________________________________________________________________\n",
            "max_pooling2d_1 (MaxPooling2 (None, 8, 8, 16)          0         \n",
            "_________________________________________________________________\n",
            "dropout_1 (Dropout)          (None, 8, 8, 16)          0         \n",
            "_________________________________________________________________\n",
            "flatten (Flatten)            (None, 1024)              0         \n",
            "_________________________________________________________________\n",
            "dense (Dense)                (None, 32)                32800     \n",
            "_________________________________________________________________\n",
            "dense_1 (Dense)              (None, 10)                330       \n",
            "=================================================================\n",
            "Total params: 38,650\n",
            "Trainable params: 38,650\n",
            "Non-trainable params: 0\n",
            "_________________________________________________________________\n"
          ],
          "name": "stdout"
        }
      ]
    },
    {
      "cell_type": "code",
      "metadata": {
        "id": "N2inPez0Karx"
      },
      "source": [
        "img_size = 32\n",
        "argx = np.random.randint(0,x_test.shape[0])\n",
        "x_ = x_test[argx].reshape(1,img_size,img_size,3)\n",
        "y_predict_no_Dense = model_new.predict(x_)"
      ],
      "execution_count": 7,
      "outputs": []
    },
    {
      "cell_type": "markdown",
      "metadata": {
        "id": "FB1ND1tmLQTf"
      },
      "source": [
        "#Server"
      ]
    },
    {
      "cell_type": "code",
      "metadata": {
        "colab": {
          "base_uri": "https://localhost:8080/"
        },
        "id": "5BxfbzmtKazc",
        "outputId": "86191611-3154-47bf-a859-81a514acf50a"
      },
      "source": [
        "s = time.time()\n",
        "w0, b0 = model_new.layers[0].get_weights()\n",
        "model_ = Sequential()\n",
        "for layer in model_new.layers[1:]:\n",
        "  model_.add(layer)\n",
        "model_.build(input_shape = model_new.layers[0].output_shape)\n",
        "listw = []\n",
        "for d in np.arange(w0.shape[-1]):\n",
        "  w_reshape = w0[:,:,:,d].reshape(1,-1)\n",
        "  w_plus = [np.random.rand() for i in range(w_reshape.shape[-1])]\n",
        "  listw.append([w_reshape[0],w_plus])\n",
        "w = np.array(listw)\n",
        "k = np.array([[np.random.rand(),np.random.rand()],\n",
        "              [np.random.rand(),np.random.rand()]])\n",
        "kd = np.linalg.inv(k)\n",
        "listKW = []\n",
        "for i in np.arange(w.shape[0]):\n",
        "    listKW.append(k.dot(w[i]))\n",
        "kw = np.array(listKW)\n",
        "print('\\nTime: ',time.time() - s)"
      ],
      "execution_count": 9,
      "outputs": [
        {
          "output_type": "stream",
          "text": [
            "\n",
            "Time:  0.04399895668029785\n"
          ],
          "name": "stdout"
        }
      ]
    },
    {
      "cell_type": "code",
      "metadata": {
        "colab": {
          "base_uri": "https://localhost:8080/"
        },
        "id": "WbaoW0s1Ka3S",
        "outputId": "5efb4d14-4a90-4c4e-cd74-434bde552dc8"
      },
      "source": [
        "kw.shape"
      ],
      "execution_count": 10,
      "outputs": [
        {
          "output_type": "execute_result",
          "data": {
            "text/plain": [
              "(32, 2, 27)"
            ]
          },
          "metadata": {
            "tags": []
          },
          "execution_count": 10
        }
      ]
    },
    {
      "cell_type": "markdown",
      "metadata": {
        "id": "0_9i9NTvLrqU"
      },
      "source": [
        "#Client"
      ]
    },
    {
      "cell_type": "code",
      "metadata": {
        "colab": {
          "base_uri": "https://localhost:8080/"
        },
        "id": "cqEanmOZKa6k",
        "outputId": "3fccf8e4-05aa-413d-d603-27e38cf9f8b7"
      },
      "source": [
        "s = time.time()\n",
        "strd, kernel = 1, 3\n",
        "listXX = []\n",
        "for _x in np.arange(x_.shape[0]):\n",
        "  listX = []\n",
        "  for h in np.arange(0,x_.shape[1],strd):\n",
        "    list_width = []\n",
        "    for width in np.arange(0,x_.shape[2],strd):\n",
        "      width_reshape = x_[_x,h:h+kernel,width:width+kernel,:].reshape(1,-1)\n",
        "      x_plus = [np.random.rand() for i in range(width_reshape.shape[-1])]\n",
        "      list_width.append([width_reshape[0], x_plus])\n",
        "      if width+kernel == x_.shape[2]:\n",
        "        break\n",
        "    listX.append(list_width)\n",
        "    if h+kernel == x_.shape[1]:\n",
        "      break\n",
        "  listXX.append(listX)\n",
        "ex = np.array(listXX)\n",
        "listKWXX = []\n",
        "for xx in np.arange(ex.shape[0]):\n",
        "  listKWX = []\n",
        "  for h in np.arange(ex.shape[1]):\n",
        "    listwi = []\n",
        "    for wi in np.arange(ex.shape[2]):\n",
        "      lw = []\n",
        "      for ww_ in np.arange(kw.shape[0]):\n",
        "        lw.append(kw[ww_].dot(ex[xx,h,wi].T))\n",
        "      listwi.append(lw)\n",
        "    listKWX.append(listwi)\n",
        "  listKWXX.append(listKWX)\n",
        "print('\\nTime: ',time.time() - s)\n",
        "kwx = np.array(listKWXX)\n",
        "kwx.shape"
      ],
      "execution_count": 12,
      "outputs": [
        {
          "output_type": "stream",
          "text": [
            "\n",
            "Time:  0.09017586708068848\n"
          ],
          "name": "stdout"
        },
        {
          "output_type": "execute_result",
          "data": {
            "text/plain": [
              "(1, 30, 30, 32, 2, 2)"
            ]
          },
          "metadata": {
            "tags": []
          },
          "execution_count": 12
        }
      ]
    },
    {
      "cell_type": "markdown",
      "metadata": {
        "id": "hUBQFVD5MbLO"
      },
      "source": [
        "#Server"
      ]
    },
    {
      "cell_type": "code",
      "metadata": {
        "id": "dSxoXenHMS4P"
      },
      "source": [
        "def Relu(x):\n",
        "  return np.maximum(x,0)"
      ],
      "execution_count": 14,
      "outputs": []
    },
    {
      "cell_type": "code",
      "metadata": {
        "colab": {
          "base_uri": "https://localhost:8080/"
        },
        "id": "u_P7IUtwKa93",
        "outputId": "60b5596d-27a2-412f-98e0-a7c5488c3844"
      },
      "source": [
        "s = time.time()\n",
        "oy = np.zeros(kwx.shape[0:4])\n",
        "for xx in np.arange(oy.shape[0]):\n",
        "  for height in np.arange(oy.shape[1]):\n",
        "    for width in np.arange(oy.shape[2]):\n",
        "      for dept in np.arange(oy.shape[3]):\n",
        "        oy[xx,height,width,dept] = Relu(kd.dot(kwx[xx,height,width,dept])[0][0]+b0[dept])\n",
        "print('Model dự đoán: ',model_.predict(oy).argmax())\n",
        "\n",
        "print('\\nTime: ',time.time() - s)"
      ],
      "execution_count": 15,
      "outputs": [
        {
          "output_type": "stream",
          "text": [
            "Model dự đoán:  1\n",
            "\n",
            "Time:  0.25708627700805664\n"
          ],
          "name": "stdout"
        }
      ]
    },
    {
      "cell_type": "code",
      "metadata": {
        "colab": {
          "base_uri": "https://localhost:8080/"
        },
        "id": "lvuTSN_FKbBP",
        "outputId": "d9264134-2571-4de3-ec78-44257a41309a"
      },
      "source": [
        "s = time.time()\n",
        "print('Model dự đoán: ',model_.predict(oy).argmax())\n",
        "print('\\nTime: ',time.time() - s)"
      ],
      "execution_count": 16,
      "outputs": [
        {
          "output_type": "stream",
          "text": [
            "Model dự đoán:  1\n",
            "\n",
            "Time:  0.04770803451538086\n"
          ],
          "name": "stdout"
        }
      ]
    },
    {
      "cell_type": "code",
      "metadata": {
        "id": "VKqicKSGGt8U"
      },
      "source": [
        ""
      ],
      "execution_count": null,
      "outputs": []
    }
  ]
}